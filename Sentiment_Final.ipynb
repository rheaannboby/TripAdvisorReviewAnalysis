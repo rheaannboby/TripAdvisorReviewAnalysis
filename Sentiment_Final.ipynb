{
  "nbformat": 4,
  "nbformat_minor": 0,
  "metadata": {
    "colab": {
      "name": "Sentiment_Final.ipynb",
      "provenance": [],
      "collapsed_sections": [],
      "include_colab_link": true
    },
    "kernelspec": {
      "name": "python3",
      "display_name": "Python 3"
    },
    "language_info": {
      "name": "python"
    }
  },
  "cells": [
    {
      "cell_type": "markdown",
      "metadata": {
        "id": "view-in-github",
        "colab_type": "text"
      },
      "source": [
        "<a href=\"https://colab.research.google.com/github/rheaannboby/TripAdvisorReviewAnalysis/blob/main/Sentiment_Final.ipynb\" target=\"_parent\"><img src=\"https://colab.research.google.com/assets/colab-badge.svg\" alt=\"Open In Colab\"/></a>"
      ]
    },
    {
      "cell_type": "markdown",
      "metadata": {
        "id": "JbHuRBvzI-uv"
      },
      "source": [
        "**IMPORT LIBRARIES AND READ THE DATASET**"
      ]
    },
    {
      "cell_type": "code",
      "metadata": {
        "colab": {
          "base_uri": "https://localhost:8080/",
          "height": 206
        },
        "id": "oxVab5gmHuJ4",
        "outputId": "79159dc8-e24a-4472-a322-3fecbd4b8392"
      },
      "source": [
        "import pandas as pd\n",
        "import numpy as np\n",
        "import warnings\n",
        "from nltk.stem.snowball import PorterStemmer\n",
        "from sklearn.feature_extraction.text import CountVectorizer\n",
        "warnings.filterwarnings('ignore')\n",
        "train_data = pd.read_csv('FinalReviewsDataset.csv')\n",
        "train_data.head(5)"
      ],
      "execution_count": null,
      "outputs": [
        {
          "output_type": "execute_result",
          "data": {
            "text/html": [
              "<div>\n",
              "<style scoped>\n",
              "    .dataframe tbody tr th:only-of-type {\n",
              "        vertical-align: middle;\n",
              "    }\n",
              "\n",
              "    .dataframe tbody tr th {\n",
              "        vertical-align: top;\n",
              "    }\n",
              "\n",
              "    .dataframe thead th {\n",
              "        text-align: right;\n",
              "    }\n",
              "</style>\n",
              "<table border=\"1\" class=\"dataframe\">\n",
              "  <thead>\n",
              "    <tr style=\"text-align: right;\">\n",
              "      <th></th>\n",
              "      <th>Unnamed: 0</th>\n",
              "      <th>Reviews</th>\n",
              "      <th>Ratings</th>\n",
              "      <th>Sentiment_Score</th>\n",
              "      <th>Sentiment</th>\n",
              "      <th>Label</th>\n",
              "    </tr>\n",
              "  </thead>\n",
              "  <tbody>\n",
              "    <tr>\n",
              "      <th>0</th>\n",
              "      <td>0</td>\n",
              "      <td>My Review is purely about FOOD and nothing els...</td>\n",
              "      <td>1.0</td>\n",
              "      <td>0.9700</td>\n",
              "      <td>Positive</td>\n",
              "      <td>1</td>\n",
              "    </tr>\n",
              "    <tr>\n",
              "      <th>1</th>\n",
              "      <td>1</td>\n",
              "      <td>It is a great place to visit , which will not ...</td>\n",
              "      <td>5.0</td>\n",
              "      <td>0.9396</td>\n",
              "      <td>Positive</td>\n",
              "      <td>1</td>\n",
              "    </tr>\n",
              "    <tr>\n",
              "      <th>2</th>\n",
              "      <td>2</td>\n",
              "      <td>The prawn curry and the fish tandor was amazin...</td>\n",
              "      <td>4.0</td>\n",
              "      <td>0.8860</td>\n",
              "      <td>Positive</td>\n",
              "      <td>1</td>\n",
              "    </tr>\n",
              "    <tr>\n",
              "      <th>3</th>\n",
              "      <td>3</td>\n",
              "      <td>Before i write furthermore, I would like to th...</td>\n",
              "      <td>5.0</td>\n",
              "      <td>0.9784</td>\n",
              "      <td>Positive</td>\n",
              "      <td>1</td>\n",
              "    </tr>\n",
              "    <tr>\n",
              "      <th>4</th>\n",
              "      <td>4</td>\n",
              "      <td>Enjoyed a dinner at the place with my Colleagu...</td>\n",
              "      <td>4.0</td>\n",
              "      <td>0.9267</td>\n",
              "      <td>Positive</td>\n",
              "      <td>1</td>\n",
              "    </tr>\n",
              "  </tbody>\n",
              "</table>\n",
              "</div>"
            ],
            "text/plain": [
              "   Unnamed: 0  ... Label\n",
              "0           0  ...     1\n",
              "1           1  ...     1\n",
              "2           2  ...     1\n",
              "3           3  ...     1\n",
              "4           4  ...     1\n",
              "\n",
              "[5 rows x 6 columns]"
            ]
          },
          "metadata": {},
          "execution_count": 2
        }
      ]
    },
    {
      "cell_type": "markdown",
      "metadata": {
        "id": "EK-g05XeJIS-"
      },
      "source": [
        "**DISPLAYING THE ATTRIBUTES OF DATASET**"
      ]
    },
    {
      "cell_type": "code",
      "metadata": {
        "colab": {
          "base_uri": "https://localhost:8080/"
        },
        "id": "iIEKBI8MJG-V",
        "outputId": "50f5e345-b0c9-4f40-af78-c37362aab98b"
      },
      "source": [
        "train_data.info()"
      ],
      "execution_count": null,
      "outputs": [
        {
          "output_type": "stream",
          "name": "stdout",
          "text": [
            "<class 'pandas.core.frame.DataFrame'>\n",
            "RangeIndex: 880 entries, 0 to 879\n",
            "Data columns (total 6 columns):\n",
            " #   Column           Non-Null Count  Dtype  \n",
            "---  ------           --------------  -----  \n",
            " 0   Unnamed: 0       880 non-null    int64  \n",
            " 1   Reviews          880 non-null    object \n",
            " 2   Ratings          880 non-null    float64\n",
            " 3   Sentiment_Score  880 non-null    float64\n",
            " 4   Sentiment        880 non-null    object \n",
            " 5   Label            880 non-null    int64  \n",
            "dtypes: float64(2), int64(2), object(2)\n",
            "memory usage: 41.4+ KB\n"
          ]
        }
      ]
    },
    {
      "cell_type": "markdown",
      "metadata": {
        "id": "HibOEYgaJYSm"
      },
      "source": [
        "**DISPLAY FIRST FIVE POSITIVE REVIEWS**"
      ]
    },
    {
      "cell_type": "code",
      "metadata": {
        "colab": {
          "base_uri": "https://localhost:8080/",
          "height": 484
        },
        "id": "tdocRmbtH2-q",
        "outputId": "dd32fcc4-f144-4b3d-fcf2-93515e70d87d"
      },
      "source": [
        "pd.set_option('max_colwidth',1800)\n",
        "train_data[train_data.Label == 1][0:5]"
      ],
      "execution_count": null,
      "outputs": [
        {
          "output_type": "execute_result",
          "data": {
            "text/html": [
              "<div>\n",
              "<style scoped>\n",
              "    .dataframe tbody tr th:only-of-type {\n",
              "        vertical-align: middle;\n",
              "    }\n",
              "\n",
              "    .dataframe tbody tr th {\n",
              "        vertical-align: top;\n",
              "    }\n",
              "\n",
              "    .dataframe thead th {\n",
              "        text-align: right;\n",
              "    }\n",
              "</style>\n",
              "<table border=\"1\" class=\"dataframe\">\n",
              "  <thead>\n",
              "    <tr style=\"text-align: right;\">\n",
              "      <th></th>\n",
              "      <th>Unnamed: 0</th>\n",
              "      <th>Reviews</th>\n",
              "      <th>Ratings</th>\n",
              "      <th>Sentiment_Score</th>\n",
              "      <th>Sentiment</th>\n",
              "      <th>Label</th>\n",
              "    </tr>\n",
              "  </thead>\n",
              "  <tbody>\n",
              "    <tr>\n",
              "      <th>0</th>\n",
              "      <td>0</td>\n",
              "      <td>My Review is purely about FOOD and nothing else.\\n\\nWe ordered for their Famous broccoli Badami and it came in all Dry. By the way, have the same dish in the South Goa branch and you would understand what I am saying.\\n\\nNext, we called...the Cheff and he told us he would make something in broccoli and to our surprise we got Broccoli Manchurian. (as per him it was pan tossed Broccoli) see the Image.\\n\\nIn Fish, I ordered simple fish curry but Fish Curry was way beyond salty and not worth eating.\\n\\nFinally, we came back empty stomachs.\\n\\nI am Surprised that Cheff Pal who is the head Chef and has amazing recipes did not check this Branch.\\n\\nMr. Xavier Furtado (Owner) I had met you years back and your moto was to give the best Food with the best experience. But Bangalore needs a relook it is not even near to your original Idea.More</td>\n",
              "      <td>1.0</td>\n",
              "      <td>0.9700</td>\n",
              "      <td>Positive</td>\n",
              "      <td>1</td>\n",
              "    </tr>\n",
              "    <tr>\n",
              "      <th>1</th>\n",
              "      <td>1</td>\n",
              "      <td>It is a great place to visit , which will not disappoint you with it's ambience, live music and sea food. The add on points are it's extremely courteous staff and their great service's!!More</td>\n",
              "      <td>5.0</td>\n",
              "      <td>0.9396</td>\n",
              "      <td>Positive</td>\n",
              "      <td>1</td>\n",
              "    </tr>\n",
              "    <tr>\n",
              "      <th>2</th>\n",
              "      <td>2</td>\n",
              "      <td>The prawn curry and the fish tandor was amazing ..must try for anyone who visit this place.\\n\\nOverall Good food and wonderful sea foodMore</td>\n",
              "      <td>4.0</td>\n",
              "      <td>0.8860</td>\n",
              "      <td>Positive</td>\n",
              "      <td>1</td>\n",
              "    </tr>\n",
              "    <tr>\n",
              "      <th>3</th>\n",
              "      <td>3</td>\n",
              "      <td>Before i write furthermore, I would like to thank manager there who is very courteous and friendly. The ambience is great. Food was delicious and all the services were excellent. Usually there is a chance that you will have a delay in getting your food...or drinks. This was our first outing this year for a Sunday brunch! Thank yiu fisherman’s wharf!More</td>\n",
              "      <td>5.0</td>\n",
              "      <td>0.9784</td>\n",
              "      <td>Positive</td>\n",
              "      <td>1</td>\n",
              "    </tr>\n",
              "    <tr>\n",
              "      <th>4</th>\n",
              "      <td>4</td>\n",
              "      <td>Enjoyed a dinner at the place with my Colleagues and I must say it's a fab restaurant. Ideal place for socializing. Good food but the choice of vegetarian was limited, excellent ambiance and friendly/enthusiastic/courteous staff members. Will definitely come back for more.More</td>\n",
              "      <td>4.0</td>\n",
              "      <td>0.9267</td>\n",
              "      <td>Positive</td>\n",
              "      <td>1</td>\n",
              "    </tr>\n",
              "  </tbody>\n",
              "</table>\n",
              "</div>"
            ],
            "text/plain": [
              "   Unnamed: 0  ... Label\n",
              "0           0  ...     1\n",
              "1           1  ...     1\n",
              "2           2  ...     1\n",
              "3           3  ...     1\n",
              "4           4  ...     1\n",
              "\n",
              "[5 rows x 6 columns]"
            ]
          },
          "metadata": {},
          "execution_count": 4
        }
      ]
    },
    {
      "cell_type": "markdown",
      "metadata": {
        "id": "SOvq8ihCJV3o"
      },
      "source": [
        "****"
      ]
    },
    {
      "cell_type": "markdown",
      "metadata": {
        "id": "9sfpheZ5Jeci"
      },
      "source": [
        "**DISPLAY THE FIRST FIVE NEGATIVE REVIEWS**"
      ]
    },
    {
      "cell_type": "code",
      "metadata": {
        "colab": {
          "base_uri": "https://localhost:8080/",
          "height": 470
        },
        "id": "fRSO5ZJeSST3",
        "outputId": "6d25341e-5989-47b2-dfb9-7b23163bc29d"
      },
      "source": [
        "pd.set_option('max_colwidth',1800)\n",
        "train_data[train_data.Label == 0][0:4]"
      ],
      "execution_count": null,
      "outputs": [
        {
          "output_type": "execute_result",
          "data": {
            "text/html": [
              "<div>\n",
              "<style scoped>\n",
              "    .dataframe tbody tr th:only-of-type {\n",
              "        vertical-align: middle;\n",
              "    }\n",
              "\n",
              "    .dataframe tbody tr th {\n",
              "        vertical-align: top;\n",
              "    }\n",
              "\n",
              "    .dataframe thead th {\n",
              "        text-align: right;\n",
              "    }\n",
              "</style>\n",
              "<table border=\"1\" class=\"dataframe\">\n",
              "  <thead>\n",
              "    <tr style=\"text-align: right;\">\n",
              "      <th></th>\n",
              "      <th>Unnamed: 0</th>\n",
              "      <th>Reviews</th>\n",
              "      <th>Ratings</th>\n",
              "      <th>Sentiment_Score</th>\n",
              "      <th>Sentiment</th>\n",
              "      <th>Label</th>\n",
              "    </tr>\n",
              "  </thead>\n",
              "  <tbody>\n",
              "    <tr>\n",
              "      <th>9</th>\n",
              "      <td>9</td>\n",
              "      <td>We went to this place for dinner on 17/9/19. As it was Tuesday, the place was not crowded that much. We got a good table facing the bar. This place was very huge. The place was specialising in Goan cuisines. \\n\\nAnyway, we ordered Whisky and...starters, paneer was corky and oily. The garlic bread with cheese was good. After few drinks, we ordered the mains. A yellow dal and roti. Dal was very watery.\\n\\nFinally, a long bill, separated for food and drinks, came and at the corner, it was written Rs.5714 and demanded us to pay this. I was sure that my bills would not have reached that level. So, I checked and told him that it was only Rs.3750! \\n\\nAs usual, he felt sorry and told that it was a mistake and Rs. 5714 pertained to another table nearby! Then, we called the Supervisor and asked why the mistake on the bill was always on higher side! He said it was genuine mistake! He was not genuine in his apology. \\n\\nMaybe, he thought, he could get away with me, that too after few drinks! Totally disappointed with this kind of cheap shot from a restaurant, which looked otherwise good. \\n\\nBuyers beware!More</td>\n",
              "      <td>1.0</td>\n",
              "      <td>0.3553</td>\n",
              "      <td>Negative</td>\n",
              "      <td>0</td>\n",
              "    </tr>\n",
              "    <tr>\n",
              "      <th>15</th>\n",
              "      <td>15</td>\n",
              "      <td>It's decent.\\n\\nPlace is good, food is nice and service is average.\\n\\nTried the butter garlic prawns and pork in plum sauce. Nothing wow nothing yuck. Nice. Floating within levels of tolerance and no expectations.More</td>\n",
              "      <td>3.0</td>\n",
              "      <td>0.0762</td>\n",
              "      <td>Negative</td>\n",
              "      <td>0</td>\n",
              "    </tr>\n",
              "    <tr>\n",
              "      <th>23</th>\n",
              "      <td>23</td>\n",
              "      <td>My Rating is 0/5.\\nWorst Food i have ever had.\\nWorst Service - No response from suppliers when food is too bad.\\ni felt worried while eating non-veg.\\nNo need to think about to veg its more than bad when compare with non-veg items.\\n#I...More</td>\n",
              "      <td>1.0</td>\n",
              "      <td>-0.9686</td>\n",
              "      <td>Negative</td>\n",
              "      <td>0</td>\n",
              "    </tr>\n",
              "    <tr>\n",
              "      <th>28</th>\n",
              "      <td>28</td>\n",
              "      <td>For all seafood lovers, this is a place in Bangalore that you can't miss, in fact you shouldn't. A truly amazing dining experience. Went for a lunch today with my family and I must say it was hilarious. I had been there few months ago...More</td>\n",
              "      <td>5.0</td>\n",
              "      <td>0.2654</td>\n",
              "      <td>Negative</td>\n",
              "      <td>0</td>\n",
              "    </tr>\n",
              "  </tbody>\n",
              "</table>\n",
              "</div>"
            ],
            "text/plain": [
              "    Unnamed: 0  ... Label\n",
              "9            9  ...     0\n",
              "15          15  ...     0\n",
              "23          23  ...     0\n",
              "28          28  ...     0\n",
              "\n",
              "[4 rows x 6 columns]"
            ]
          },
          "metadata": {},
          "execution_count": 5
        }
      ]
    },
    {
      "cell_type": "markdown",
      "metadata": {
        "id": "Ju94GbfsJoqF"
      },
      "source": [
        "**COUNT PLOT TO COMPARE THE NUMBER OF POSITIVE AND NEGATIVE SENTIMENTS**"
      ]
    },
    {
      "cell_type": "code",
      "metadata": {
        "colab": {
          "base_uri": "https://localhost:8080/",
          "height": 350
        },
        "id": "zpZazuZ6V1jr",
        "outputId": "6188a6f6-8ffc-4bcb-aa10-1fddc0e52165"
      },
      "source": [
        "#count plot to compare the number of positive and negative sentiments.\n",
        "import matplotlib.pyplot as plt\n",
        "import seaborn as sn\n",
        "%matplotlib inline\n",
        "plt.figure(figsize=(6,5))\n",
        "plt.title(\"Number of records of positive and negative sentiments\")\n",
        "plot = sn.countplot(x = 'Sentiment', data=train_data)\n",
        "for p in plot.patches:\n",
        "    plot.annotate(p.get_height(),(p.get_x()+0.1 ,p.get_height()+50))"
      ],
      "execution_count": null,
      "outputs": [
        {
          "output_type": "display_data",
          "data": {
            "image/png": "[encoded data removed]",
            "text/plain": [
              "<Figure size 432x360 with 1 Axes>"
            ]
          },
          "metadata": {
            "needs_background": "light"
          }
        }
      ]
    },
    {
      "cell_type": "code",
      "metadata": {
        "id": "3PNW2EIlwiwh"
      },
      "source": [
        "import nltk"
      ],
      "execution_count": null,
      "outputs": []
    },
    {
      "cell_type": "code",
      "metadata": {
        "colab": {
          "base_uri": "https://localhost:8080/"
        },
        "id": "nAAfeaFAwoiJ",
        "outputId": "a52496d4-1e48-4c5d-ba4a-f47b08a6b415"
      },
      "source": [
        "nltk.download('stopwords')"
      ],
      "execution_count": null,
      "outputs": [
        {
          "output_type": "stream",
          "name": "stdout",
          "text": [
            "[nltk_data] Downloading package stopwords to /root/nltk_data...\n",
            "[nltk_data]   Unzipping corpora/stopwords.zip.\n"
          ]
        },
        {
          "output_type": "execute_result",
          "data": {
            "text/plain": [
              "True"
            ]
          },
          "metadata": {},
          "execution_count": 8
        }
      ]
    },
    {
      "cell_type": "code",
      "metadata": {
        "id": "9lrRI_v0wUeq"
      },
      "source": [
        "from nltk.corpus import stopwords "
      ],
      "execution_count": null,
      "outputs": []
    },
    {
      "cell_type": "code",
      "metadata": {
        "id": "yBJSuVnvuaqm"
      },
      "source": [
        "my_stop_words = set(stopwords.words('english')) "
      ],
      "execution_count": null,
      "outputs": []
    },
    {
      "cell_type": "code",
      "metadata": {
        "colab": {
          "base_uri": "https://localhost:8080/"
        },
        "id": "w6Run9eWyrKs",
        "outputId": "f8555da2-98fa-4093-8625-fb6ecff6cf6a"
      },
      "source": [
        "print(my_stop_words)"
      ],
      "execution_count": null,
      "outputs": [
        {
          "output_type": "stream",
          "name": "stdout",
          "text": [
            "{\"mustn't\", \"that'll\", 'he', 'but', 'just', 'ourselves', 'there', 'where', 'yourselves', 'theirs', 'before', 'them', 'had', 'has', 'this', 'a', 'who', \"mightn't\", \"weren't\", \"haven't\", 'is', \"won't\", 'most', 'so', 'yours', 't', 'will', 'isn', 'does', 'whom', 'at', 'hasn', 'having', 'then', 'same', 'on', 'wasn', 'when', 'or', 'up', 'only', 'needn', 'own', 'have', 'doesn', 'the', 'that', \"hasn't\", 'i', 'were', 'mustn', 'himself', 'aren', 'she', 'for', 'didn', 'off', 'itself', 'other', 'with', 'all', \"she's\", 'into', 'did', 'an', 'until', 'couldn', 'll', 'such', 'very', 'through', 'if', 'over', 'its', 'd', \"it's\", \"you're\", 'don', 'of', 'him', 'between', 'are', 'which', 'be', 'once', 'now', 'down', \"don't\", 'being', 'was', 'both', 're', 'here', 'her', 'wouldn', 'not', 'it', 'how', 'further', 'ain', 'won', 'you', 'hadn', 'these', 'do', 'what', 'your', 'some', \"couldn't\", 'yourself', 'hers', \"isn't\", 'as', 'y', \"wasn't\", 'their', 'more', 's', 'than', 'below', 'while', 'from', 'against', 've', 'themselves', \"aren't\", 'after', 'again', 'can', 'nor', 'any', 'myself', \"you'd\", 'no', 'above', 'herself', 'each', 'should', \"wouldn't\", \"shouldn't\", 'we', 'ma', 'those', 'me', \"you'll\", 'doing', 'by', 'to', 'and', \"didn't\", 'am', 'mightn', \"needn't\", 'my', 'his', 'about', 'under', 'o', 'out', \"should've\", 'shan', 'been', \"you've\", 'few', 'our', 'during', 'shouldn', \"doesn't\", 'too', 'ours', 'in', 'why', 'm', \"shan't\", 'because', 'haven', \"hadn't\", 'weren', 'they'}\n"
          ]
        }
      ]
    },
    {
      "cell_type": "markdown",
      "metadata": {
        "id": "g6LZzbD0KNLy"
      },
      "source": [
        "**TEXT PRE-PROCESSING**"
      ]
    },
    {
      "cell_type": "code",
      "metadata": {
        "id": "_Fcwso7mV6yU"
      },
      "source": [
        "count_vectorizer =  CountVectorizer(stop_words= my_stop_words, max_features= 1000)"
      ],
      "execution_count": null,
      "outputs": []
    },
    {
      "cell_type": "code",
      "metadata": {
        "id": "1xb4SkYewuMv"
      },
      "source": [
        "feature_vector =  count_vectorizer.fit(train_data.Reviews)"
      ],
      "execution_count": null,
      "outputs": []
    },
    {
      "cell_type": "code",
      "metadata": {
        "id": "bmdcytNr1XL4"
      },
      "source": [
        "train_ds_features =  count_vectorizer.transform(train_data.Reviews)"
      ],
      "execution_count": null,
      "outputs": []
    },
    {
      "cell_type": "code",
      "metadata": {
        "id": "cqS5iq1f1e2r"
      },
      "source": [
        "features = feature_vector.get_feature_names()"
      ],
      "execution_count": null,
      "outputs": []
    },
    {
      "cell_type": "code",
      "metadata": {
        "id": "3RRvo_hQ1hyb"
      },
      "source": [
        "features_counts = np.sum(train_ds_features.toarray(), axis = 0)"
      ],
      "execution_count": null,
      "outputs": []
    },
    {
      "cell_type": "code",
      "metadata": {
        "id": "4CGNd-mZ3iEk"
      },
      "source": [
        "features_counts = pd.DataFrame(dict(features =  features, counts = features_counts))"
      ],
      "execution_count": null,
      "outputs": []
    },
    {
      "cell_type": "code",
      "metadata": {
        "colab": {
          "base_uri": "https://localhost:8080/",
          "height": 520
        },
        "id": "5hKYNZXG4PpD",
        "outputId": "f5f31437-398b-4c2c-d012-c285de84bc57"
      },
      "source": [
        "features_counts.sort_values(\"counts\", ascending= False)[0:15]"
      ],
      "execution_count": null,
      "outputs": [
        {
          "output_type": "execute_result",
          "data": {
            "text/html": [
              "<div>\n",
              "<style scoped>\n",
              "    .dataframe tbody tr th:only-of-type {\n",
              "        vertical-align: middle;\n",
              "    }\n",
              "\n",
              "    .dataframe tbody tr th {\n",
              "        vertical-align: top;\n",
              "    }\n",
              "\n",
              "    .dataframe thead th {\n",
              "        text-align: right;\n",
              "    }\n",
              "</style>\n",
              "<table border=\"1\" class=\"dataframe\">\n",
              "  <thead>\n",
              "    <tr style=\"text-align: right;\">\n",
              "      <th></th>\n",
              "      <th>features</th>\n",
              "      <th>counts</th>\n",
              "    </tr>\n",
              "  </thead>\n",
              "  <tbody>\n",
              "    <tr>\n",
              "      <th>324</th>\n",
              "      <td>food</td>\n",
              "      <td>671</td>\n",
              "    </tr>\n",
              "    <tr>\n",
              "      <th>636</th>\n",
              "      <td>place</td>\n",
              "      <td>555</td>\n",
              "    </tr>\n",
              "    <tr>\n",
              "      <th>365</th>\n",
              "      <td>good</td>\n",
              "      <td>519</td>\n",
              "    </tr>\n",
              "    <tr>\n",
              "      <th>38</th>\n",
              "      <td>ambience</td>\n",
              "      <td>261</td>\n",
              "    </tr>\n",
              "    <tr>\n",
              "      <th>764</th>\n",
              "      <td>service</td>\n",
              "      <td>233</td>\n",
              "    </tr>\n",
              "    <tr>\n",
              "      <th>368</th>\n",
              "      <td>great</td>\n",
              "      <td>232</td>\n",
              "    </tr>\n",
              "    <tr>\n",
              "      <th>720</th>\n",
              "      <td>restaurant</td>\n",
              "      <td>206</td>\n",
              "    </tr>\n",
              "    <tr>\n",
              "      <th>362</th>\n",
              "      <td>goan</td>\n",
              "      <td>185</td>\n",
              "    </tr>\n",
              "    <tr>\n",
              "      <th>562</th>\n",
              "      <td>nice</td>\n",
              "      <td>168</td>\n",
              "    </tr>\n",
              "    <tr>\n",
              "      <th>37</th>\n",
              "      <td>ambiance</td>\n",
              "      <td>153</td>\n",
              "    </tr>\n",
              "    <tr>\n",
              "      <th>588</th>\n",
              "      <td>one</td>\n",
              "      <td>145</td>\n",
              "    </tr>\n",
              "    <tr>\n",
              "      <th>109</th>\n",
              "      <td>buffet</td>\n",
              "      <td>143</td>\n",
              "    </tr>\n",
              "    <tr>\n",
              "      <th>966</th>\n",
              "      <td>wharf</td>\n",
              "      <td>140</td>\n",
              "    </tr>\n",
              "    <tr>\n",
              "      <th>361</th>\n",
              "      <td>goa</td>\n",
              "      <td>138</td>\n",
              "    </tr>\n",
              "    <tr>\n",
              "      <th>319</th>\n",
              "      <td>fish</td>\n",
              "      <td>136</td>\n",
              "    </tr>\n",
              "  </tbody>\n",
              "</table>\n",
              "</div>"
            ],
            "text/plain": [
              "       features  counts\n",
              "324        food     671\n",
              "636       place     555\n",
              "365        good     519\n",
              "38     ambience     261\n",
              "764     service     233\n",
              "368       great     232\n",
              "720  restaurant     206\n",
              "362        goan     185\n",
              "562        nice     168\n",
              "37     ambiance     153\n",
              "588         one     145\n",
              "109      buffet     143\n",
              "966       wharf     140\n",
              "361         goa     138\n",
              "319        fish     136"
            ]
          },
          "metadata": {},
          "execution_count": 18
        }
      ]
    },
    {
      "cell_type": "markdown",
      "metadata": {
        "id": "TWw74slGKdEu"
      },
      "source": [
        "**BUILD MODEL FOR SENTIMENT CLASSIFICATION**"
      ]
    },
    {
      "cell_type": "markdown",
      "metadata": {
        "id": "VwRV8AjvKsX4"
      },
      "source": [
        "**SPLIT DATA INTO TRAINING AND VALIDATION SETS**"
      ]
    },
    {
      "cell_type": "code",
      "metadata": {
        "id": "zjhFsPmV5K7c"
      },
      "source": [
        "from sklearn.model_selection import train_test_split\n",
        "train_x, test_x, train_y, test_y =  train_test_split(train_ds_features, train_data.Sentiment, \n",
        "                                                     test_size = 0.3, random_state = 42)"
      ],
      "execution_count": null,
      "outputs": []
    },
    {
      "cell_type": "markdown",
      "metadata": {
        "id": "3ZvGhVnzK2b5"
      },
      "source": [
        "**NAIVE BAYES MODEL**"
      ]
    },
    {
      "cell_type": "code",
      "metadata": {
        "colab": {
          "base_uri": "https://localhost:8080/"
        },
        "id": "_opZvcJ65McK",
        "outputId": "3464f85e-ba78-4e4c-a586-bf45829bf9b3"
      },
      "source": [
        "from sklearn.naive_bayes import BernoulliNB\n",
        "nb_clf = BernoulliNB()\n",
        "nb_clf.fit(train_x.toarray(), train_y)"
      ],
      "execution_count": null,
      "outputs": [
        {
          "output_type": "execute_result",
          "data": {
            "text/plain": [
              "BernoulliNB()"
            ]
          },
          "metadata": {},
          "execution_count": 20
        }
      ]
    },
    {
      "cell_type": "markdown",
      "metadata": {
        "id": "0cK-heEnLK1l"
      },
      "source": [
        "**PREDICTION ON TEST CASE**"
      ]
    },
    {
      "cell_type": "code",
      "metadata": {
        "id": "lB7P51qv5U_0"
      },
      "source": [
        "test_ds_predicted = nb_clf.predict(test_x.toarray())"
      ],
      "execution_count": null,
      "outputs": []
    },
    {
      "cell_type": "markdown",
      "metadata": {
        "id": "PJOyIk3VLR9U"
      },
      "source": [
        "**FINDING MODEL ACCURACY**"
      ]
    },
    {
      "cell_type": "code",
      "metadata": {
        "colab": {
          "base_uri": "https://localhost:8080/"
        },
        "id": "FsMYHP_l5dSJ",
        "outputId": "81e587f7-b29d-4a83-a741-a895d8c35826"
      },
      "source": [
        "from sklearn import metrics\n",
        "print(metrics.classification_report(test_y,test_ds_predicted))"
      ],
      "execution_count": null,
      "outputs": [
        {
          "output_type": "stream",
          "name": "stdout",
          "text": [
            "              precision    recall  f1-score   support\n",
            "\n",
            "    Negative       0.59      0.29      0.39        55\n",
            "    Positive       0.84      0.95      0.89       209\n",
            "\n",
            "    accuracy                           0.81       264\n",
            "   macro avg       0.71      0.62      0.64       264\n",
            "weighted avg       0.78      0.81      0.78       264\n",
            "\n"
          ]
        }
      ]
    },
    {
      "cell_type": "markdown",
      "metadata": {
        "id": "pL7noLQrLgvs"
      },
      "source": [
        "**CONFUSION MATRIX**"
      ]
    },
    {
      "cell_type": "code",
      "metadata": {
        "id": "JrRBsLaQ5pHJ",
        "colab": {
          "base_uri": "https://localhost:8080/",
          "height": 282
        },
        "outputId": "e7d1ab9e-0768-4256-cd81-007e3bacbdb4"
      },
      "source": [
        "cm = metrics.confusion_matrix(test_y, test_ds_predicted)\n",
        "sn.heatmap(cm, annot=True, fmt = '.2f')"
      ],
      "execution_count": null,
      "outputs": [
        {
          "output_type": "execute_result",
          "data": {
            "text/plain": [
              "<matplotlib.axes._subplots.AxesSubplot at 0x7fe3af693890>"
            ]
          },
          "metadata": {},
          "execution_count": 22
        },
        {
          "output_type": "display_data",
          "data": {
            "image/png": "[encoded data removed]",
            "text/plain": [
              "<Figure size 432x288 with 2 Axes>"
            ]
          },
          "metadata": {
            "needs_background": "light"
          }
        }
      ]
    },
    {
      "cell_type": "code",
      "metadata": {
        "id": "C_6RTrxU2UC6"
      },
      "source": [
        "import pickle\n",
        "with open('models.pkl', 'wb') as file:\n",
        "  pickle.dump(nb_clf, file)"
      ],
      "execution_count": null,
      "outputs": []
    }
  ]
}