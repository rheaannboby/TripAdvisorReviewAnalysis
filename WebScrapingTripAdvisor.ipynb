{
  "nbformat": 4,
  "nbformat_minor": 0,
  "metadata": {
    "colab": {
      "name": "WebScrapingTripAdvisor.ipynb",
      "provenance": [],
      "collapsed_sections": [],
      "include_colab_link": true
    },
    "kernelspec": {
      "name": "python3",
      "display_name": "Python 3"
    },
    "language_info": {
      "name": "python"
    }
  },
  "cells": [
    {
      "cell_type": "markdown",
      "metadata": {
        "id": "view-in-github",
        "colab_type": "text"
      },
      "source": [
        "<a href=\"https://colab.research.google.com/github/rheaannboby/TripAdvisorReviewAnalysis/blob/main/WebScrapingTripAdvisor.ipynb\" target=\"_parent\"><img src=\"https://colab.research.google.com/assets/colab-badge.svg\" alt=\"Open In Colab\"/></a>"
      ]
    },
    {
      "cell_type": "markdown",
      "metadata": {
        "id": "khT2ikohFCwL"
      },
      "source": [
        "**IMPORTING ALL THE NECESSARY LIBRARIES**"
      ]
    },
    {
      "cell_type": "code",
      "metadata": {
        "id": "nx7xsTpwCACi"
      },
      "source": [
        "import requests\n",
        "from bs4 import BeautifulSoup as soup\n",
        "from time import sleep\n",
        "from random import randint"
      ],
      "execution_count": null,
      "outputs": []
    },
    {
      "cell_type": "markdown",
      "metadata": {
        "id": "CdV6LtmwFQdl"
      },
      "source": [
        "**ASSIGNING REVIEWS AND RATINGS LIST**"
      ]
    },
    {
      "cell_type": "code",
      "metadata": {
        "id": "YRMHg-84CheX"
      },
      "source": [
        "hotel_reviews = []\n",
        "hotel_ratings=[]"
      ],
      "execution_count": null,
      "outputs": []
    },
    {
      "cell_type": "markdown",
      "metadata": {
        "id": "q_jEaMbyGghR"
      },
      "source": [
        "**ASSIGNING THE HEADER AND URL**"
      ]
    },
    {
      "cell_type": "code",
      "metadata": {
        "id": "bPaccpl8CphC"
      },
      "source": [
        "headers = {'User-Agent': 'Mozilla/5.0 (Windows NT 10.0; Win64; x64) AppleWebKit/537.36 (KHTML, like Gecko) Chrome/95.0.4638.54 Safari/537.36'}\n",
        "\n",
        "a='https://www.tripadvisor.in/Restaurant_Review-g297628-d3207659-Reviews-The_Fisherman_s_Wharf-Bengaluru_Bangalore_District_Karnataka.html'"
      ],
      "execution_count": null,
      "outputs": []
    },
    {
      "cell_type": "markdown",
      "metadata": {
        "id": "InipzjSIG350"
      },
      "source": [
        "**SCRAPE THE REVIEWS AND RATINGS INTO THE RESPECTIVE LISTS**"
      ]
    },
    {
      "cell_type": "code",
      "metadata": {
        "id": "iGbHRGx7Cy-d"
      },
      "source": [
        "for i in range(88):\n",
        "    print(\"Page {0}\".format(i+1))\n",
        "    html = requests.get(a,headers=headers)\n",
        "    sleep(randint(1,5))\n",
        "    bsobj = soup(html.content,'html.parser')\n",
        "\n",
        "    for review in bsobj.findAll('div',{'class':'prw_rup prw_reviews_text_summary_hsx'}):\n",
        "        newstr = review.text.strip()\n",
        "        if newstr.split()[0] !='Dear' and newstr.split()[0] !='Reply-' and newstr.split()[0]!='Greetings' and newstr.split()[0]!='Reply':\n",
        "            hotel_reviews.append(newstr)\n",
        "\n",
        "    ratings=[]\n",
        "    ratings_tag=[]\n",
        "    ratings_tag=bsobj.findAll('div',{'class':'ui_column is-9'})\n",
        "    for j in range(10):\n",
        "        ratings=ratings_tag[j].findAll('span',{'class':'ui_bubble_rating'})\n",
        "        hotel_ratings.append(int(ratings[0]['class'][1].split(\"bubble_\")[1])/10)\n",
        "   \n",
        "    a='https://www.tripadvisor.in/Restaurant_Review-g297628-d3207659-Reviews-The_Fisherman_s_Wharf-Bengaluru_Bangalore_District_Karnataka.html'\n",
        "\n",
        "    a= a[:(a.find('Reviews')+(7))] + '-or' + str((i+1)*10) + a[(a.find('Reviews')+(7)):]\n"
      ],
      "execution_count": null,
      "outputs": []
    },
    {
      "cell_type": "markdown",
      "metadata": {
        "id": "-fFHuzbcHQJs"
      },
      "source": [
        "**IMPORTING PANDAS AND PASSING THE DATA ONTO THE CSV FILE**"
      ]
    },
    {
      "cell_type": "code",
      "metadata": {
        "id": "sb09sQkFC2bW"
      },
      "source": [
        "import pandas as pd\n",
        "\n",
        "d1={'Reviews':hotel_reviews,'Ratings':hotel_ratings}\n",
        "df = pd.DataFrame.from_dict(d1)\n",
        "df.to_csv(\"ReviewsExceptLabel.csv\")"
      ],
      "execution_count": null,
      "outputs": []
    }
  ]
}